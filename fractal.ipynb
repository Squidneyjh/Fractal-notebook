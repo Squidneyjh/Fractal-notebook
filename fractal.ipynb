import numpy as np
import matplotlib.pyplot as plt

# Define the properties of the fractal
width, height = 1000, 1000
xmin, xmax, ymin, ymax = -0.8, -0.7, 0, 0.1  # Focus on a detailed section
max_iter = 1000  # Increased max_iter

# Create a blank image
image = np.zeros((width, height))

# Generate the fractal
for x in range(width):
    for y in range(height):
        zx, zy = x * (xmax - xmin) / (width - 1) + xmin, y * (ymax - ymin) / (height - 1) + ymin
        c = zx + zy * 1j
        z = c
        for i in range(max_iter):
            if abs(z) > 1000:
                break 
            z = z * z + c
        # Color based on a Julia-like transformation
        r, g, b = np.sin(abs(z)), np.cos(z.imag), np.sin(z.real)
        image[y, x] = (r**2 + g**2 + b**2) / 3

# Display the image
plt.figure(figsize=(10, 10))
plt.imshow(image, cmap='nipy_spectral', origin='lower')
plt.show()
